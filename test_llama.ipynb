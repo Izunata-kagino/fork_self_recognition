{
 "cells": [
  {
   "cell_type": "code",
   "execution_count": 1,
   "metadata": {},
   "outputs": [],
   "source": [
    "import requests\n",
    "import json\n",
    "\n",
    "# 发送生成请求\n",
    "def send_generation_request(prompt, target_chars, server_url=\"http://localhost:8080/props\"):\n",
    "    # 构建请求数据\n",
    "    data = {\n",
    "        \"prompt\": prompt,\n",
    "        \"target_chars\": target_chars\n",
    "    }\n",
    "    headers = {\n",
    "        \"Content-Type\": \"application/json\"\n",
    "    }\n",
    "\n",
    "    # 发送请求\n",
    "    response = requests.post(server_url, headers=headers, data=json.dumps(data))\n",
    "    \n",
    "    # 检查响应状态码\n",
    "    if response.status_code == 200:\n",
    "        return response.json()\n",
    "    else:\n",
    "        print(f\"Request failed with status code: {response.status_code}\")\n",
    "        return None\n",
    "\n",
    "# 发送关闭服务器请求\n",
    "def send_shutdown_request(server_url=\"http://localhost:8080/shutdown\"):\n",
    "    # 发送关闭请求\n",
    "    response = requests.post(server_url)\n",
    "    \n",
    "    # 检查响应状态码\n",
    "    if response.status_code == 200:\n",
    "        print(\"Server shutdown successfully\")\n",
    "    else:\n",
    "        print(f\"Shutdown request failed with status code: {response.status_code}\")\n",
    "\n",
    "\n"
   ]
  },
  {
   "cell_type": "code",
   "execution_count": null,
   "metadata": {},
   "outputs": [],
   "source": [
    "prompt = \"The answer of 1 + 4 is: \"\n",
    "target_chars = \"1,2,3,5\"\n",
    "\n",
    "# 发送生成请求\n",
    "result = send_generation_request(prompt, target_chars)\n",
    "if result:\n",
    "    print(\"Generation result:\")\n",
    "    print(json.dumps(result, indent=4))\n",
    "\n",
    "# 发送关闭服务器请求\n",
    "send_shutdown_request()"
   ]
  }
 ],
 "metadata": {
  "kernelspec": {
   "display_name": "myvenv",
   "language": "python",
   "name": "python3"
  },
  "language_info": {
   "codemirror_mode": {
    "name": "ipython",
    "version": 3
   },
   "file_extension": ".py",
   "mimetype": "text/x-python",
   "name": "python",
   "nbconvert_exporter": "python",
   "pygments_lexer": "ipython3",
   "version": "3.10.11"
  }
 },
 "nbformat": 4,
 "nbformat_minor": 2
}
