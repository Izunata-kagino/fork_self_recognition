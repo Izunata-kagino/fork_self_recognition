{
 "cells": [
  {
   "cell_type": "code",
   "execution_count": 3,
   "metadata": {},
   "outputs": [
    {
     "name": "stdout",
     "output_type": "stream",
     "text": [
      "Python 3.10.11\n"
     ]
    }
   ],
   "source": [
    "!python --version"
   ]
  },
  {
   "cell_type": "code",
   "execution_count": 4,
   "metadata": {},
   "outputs": [
    {
     "name": "stdout",
     "output_type": "stream",
     "text": [
      "Collecting datasets\n",
      "  Using cached datasets-2.20.0-py3-none-any.whl (547 kB)\n",
      "Collecting aiohttp\n",
      "  Downloading aiohttp-3.9.5-cp310-cp310-win_amd64.whl (370 kB)\n",
      "     ---------------------------------------- 0.0/370.7 kB ? eta -:--:--\n",
      "     ------------------ ------------------- 184.3/370.7 kB 3.7 MB/s eta 0:00:01\n",
      "     -------------------------------------- 370.7/370.7 kB 5.8 MB/s eta 0:00:00\n",
      "Requirement already satisfied: pandas in c:\\users\\yang\\appdata\\local\\programs\\python\\python310\\lib\\site-packages (from datasets) (2.1.4)\n",
      "Collecting pyarrow>=15.0.0\n",
      "  Downloading pyarrow-16.1.0-cp310-cp310-win_amd64.whl (25.9 MB)\n",
      "     ---------------------------------------- 0.0/25.9 MB ? eta -:--:--\n",
      "     -- ------------------------------------- 1.4/25.9 MB 29.0 MB/s eta 0:00:01\n",
      "     --- ------------------------------------ 2.5/25.9 MB 26.8 MB/s eta 0:00:01\n",
      "     ------ --------------------------------- 4.2/25.9 MB 33.8 MB/s eta 0:00:01\n",
      "     -------- ------------------------------- 5.8/25.9 MB 36.9 MB/s eta 0:00:01\n",
      "     ----------- ---------------------------- 7.4/25.9 MB 36.2 MB/s eta 0:00:01\n",
      "     ------------- -------------------------- 8.9/25.9 MB 35.4 MB/s eta 0:00:01\n",
      "     --------------- ----------------------- 10.5/25.9 MB 34.4 MB/s eta 0:00:01\n",
      "     ----------------- --------------------- 11.8/25.9 MB 36.4 MB/s eta 0:00:01\n",
      "     -------------------- ------------------ 13.7/25.9 MB 38.6 MB/s eta 0:00:01\n",
      "     ---------------------- ---------------- 15.1/25.9 MB 38.5 MB/s eta 0:00:01\n",
      "     ------------------------ -------------- 16.5/25.9 MB 36.4 MB/s eta 0:00:01\n",
      "     -------------------------- ------------ 17.8/25.9 MB 36.4 MB/s eta 0:00:01\n",
      "     ----------------------------- --------- 19.3/25.9 MB 38.5 MB/s eta 0:00:01\n",
      "     ------------------------------- ------- 20.6/25.9 MB 36.4 MB/s eta 0:00:01\n",
      "     --------------------------------- ----- 22.1/25.9 MB 38.5 MB/s eta 0:00:01\n",
      "     ---------------------------------- ---- 22.9/25.9 MB 32.7 MB/s eta 0:00:01\n",
      "     ------------------------------------ -- 24.2/25.9 MB 34.4 MB/s eta 0:00:01\n",
      "     --------------------------------------  25.9/25.9 MB 32.7 MB/s eta 0:00:01\n",
      "     --------------------------------------- 25.9/25.9 MB 28.4 MB/s eta 0:00:00\n",
      "Collecting xxhash\n",
      "  Downloading xxhash-3.4.1-cp310-cp310-win_amd64.whl (29 kB)\n",
      "Collecting pyarrow-hotfix\n",
      "  Using cached pyarrow_hotfix-0.6-py3-none-any.whl (7.9 kB)\n",
      "Collecting tqdm>=4.66.3\n",
      "  Using cached tqdm-4.66.4-py3-none-any.whl (78 kB)\n",
      "Requirement already satisfied: fsspec[http]<=2024.5.0,>=2023.1.0 in c:\\users\\yang\\appdata\\local\\programs\\python\\python310\\lib\\site-packages (from datasets) (2023.12.1)\n",
      "Requirement already satisfied: packaging in c:\\users\\yang\\appdata\\local\\programs\\python\\python310\\lib\\site-packages (from datasets) (23.2)\n",
      "Collecting requests>=2.32.2\n",
      "  Using cached requests-2.32.3-py3-none-any.whl (64 kB)\n",
      "Requirement already satisfied: pyyaml>=5.1 in c:\\users\\yang\\appdata\\local\\programs\\python\\python310\\lib\\site-packages (from datasets) (6.0.1)\n",
      "Requirement already satisfied: numpy>=1.17 in c:\\users\\yang\\appdata\\local\\programs\\python\\python310\\lib\\site-packages (from datasets) (1.26.0)\n",
      "Requirement already satisfied: filelock in c:\\users\\yang\\appdata\\local\\programs\\python\\python310\\lib\\site-packages (from datasets) (3.13.1)\n",
      "Collecting multiprocess\n",
      "  Downloading multiprocess-0.70.16-py310-none-any.whl (134 kB)\n",
      "     ---------------------------------------- 0.0/134.8 kB ? eta -:--:--\n",
      "     ---------------------------------------- 134.8/134.8 kB ? eta 0:00:00\n",
      "Collecting dill<0.3.9,>=0.3.0\n",
      "  Using cached dill-0.3.8-py3-none-any.whl (116 kB)\n",
      "Collecting huggingface-hub>=0.21.2\n",
      "  Using cached huggingface_hub-0.23.4-py3-none-any.whl (402 kB)\n",
      "Collecting frozenlist>=1.1.1\n",
      "  Downloading frozenlist-1.4.1-cp310-cp310-win_amd64.whl (50 kB)\n",
      "     ---------------------------------------- 0.0/50.4 kB ? eta -:--:--\n",
      "     ---------------------------------------- 50.4/50.4 kB ? eta 0:00:00\n",
      "Requirement already satisfied: attrs>=17.3.0 in c:\\users\\yang\\appdata\\local\\programs\\python\\python310\\lib\\site-packages (from aiohttp->datasets) (23.1.0)\n",
      "Collecting multidict<7.0,>=4.5\n",
      "  Downloading multidict-6.0.5-cp310-cp310-win_amd64.whl (28 kB)\n",
      "Collecting async-timeout<5.0,>=4.0\n",
      "  Downloading async_timeout-4.0.3-py3-none-any.whl (5.7 kB)\n",
      "Collecting yarl<2.0,>=1.0\n",
      "  Downloading yarl-1.9.4-cp310-cp310-win_amd64.whl (76 kB)\n",
      "     ---------------------------------------- 0.0/76.4 kB ? eta -:--:--\n",
      "     ---------------------------------------- 76.4/76.4 kB ? eta 0:00:00\n",
      "Collecting aiosignal>=1.1.2\n",
      "  Using cached aiosignal-1.3.1-py3-none-any.whl (7.6 kB)\n",
      "Requirement already satisfied: typing-extensions>=3.7.4.3 in c:\\users\\yang\\appdata\\local\\programs\\python\\python310\\lib\\site-packages (from huggingface-hub>=0.21.2->datasets) (4.8.0)\n",
      "Requirement already satisfied: charset-normalizer<4,>=2 in c:\\users\\yang\\appdata\\local\\programs\\python\\python310\\lib\\site-packages (from requests>=2.32.2->datasets) (3.3.2)\n",
      "Requirement already satisfied: certifi>=2017.4.17 in c:\\users\\yang\\appdata\\local\\programs\\python\\python310\\lib\\site-packages (from requests>=2.32.2->datasets) (2023.7.22)\n",
      "Requirement already satisfied: urllib3<3,>=1.21.1 in c:\\users\\yang\\appdata\\local\\programs\\python\\python310\\lib\\site-packages (from requests>=2.32.2->datasets) (2.0.7)\n",
      "Requirement already satisfied: idna<4,>=2.5 in c:\\users\\yang\\appdata\\local\\programs\\python\\python310\\lib\\site-packages (from requests>=2.32.2->datasets) (3.4)\n",
      "Requirement already satisfied: colorama in c:\\users\\yang\\appdata\\local\\programs\\python\\python310\\lib\\site-packages (from tqdm>=4.66.3->datasets) (0.4.6)\n",
      "Requirement already satisfied: tzdata>=2022.1 in c:\\users\\yang\\appdata\\local\\programs\\python\\python310\\lib\\site-packages (from pandas->datasets) (2023.3)\n",
      "Requirement already satisfied: python-dateutil>=2.8.2 in c:\\users\\yang\\appdata\\local\\programs\\python\\python310\\lib\\site-packages (from pandas->datasets) (2.8.2)\n",
      "Requirement already satisfied: pytz>=2020.1 in c:\\users\\yang\\appdata\\local\\programs\\python\\python310\\lib\\site-packages (from pandas->datasets) (2023.3.post1)\n",
      "Requirement already satisfied: six>=1.5 in c:\\users\\yang\\appdata\\local\\programs\\python\\python310\\lib\\site-packages (from python-dateutil>=2.8.2->pandas->datasets) (1.16.0)\n",
      "Installing collected packages: xxhash, tqdm, requests, pyarrow-hotfix, pyarrow, multidict, frozenlist, dill, async-timeout, yarl, multiprocess, huggingface-hub, aiosignal, aiohttp, datasets\n",
      "  Attempting uninstall: tqdm\n",
      "    Found existing installation: tqdm 4.66.1\n",
      "    Uninstalling tqdm-4.66.1:\n",
      "      Successfully uninstalled tqdm-4.66.1\n",
      "  Attempting uninstall: requests\n",
      "    Found existing installation: requests 2.31.0\n",
      "    Uninstalling requests-2.31.0:\n",
      "      Successfully uninstalled requests-2.31.0\n",
      "  Attempting uninstall: huggingface-hub\n",
      "    Found existing installation: huggingface-hub 0.19.4\n",
      "    Uninstalling huggingface-hub-0.19.4:\n",
      "      Successfully uninstalled huggingface-hub-0.19.4\n",
      "Successfully installed aiohttp-3.9.5 aiosignal-1.3.1 async-timeout-4.0.3 datasets-2.20.0 dill-0.3.8 frozenlist-1.4.1 huggingface-hub-0.23.4 multidict-6.0.5 multiprocess-0.70.16 pyarrow-16.1.0 pyarrow-hotfix-0.6 requests-2.32.3 tqdm-4.66.4 xxhash-3.4.1 yarl-1.9.4\n"
     ]
    },
    {
     "name": "stderr",
     "output_type": "stream",
     "text": [
      "\n",
      "[notice] A new release of pip is available: 23.0.1 -> 24.1\n",
      "[notice] To update, run: python.exe -m pip install --upgrade pip\n"
     ]
    }
   ],
   "source": [
    "!python -m pip install datasets"
   ]
  },
  {
   "cell_type": "code",
   "execution_count": 5,
   "metadata": {},
   "outputs": [
    {
     "name": "stderr",
     "output_type": "stream",
     "text": [
      "c:\\Users\\Yang\\AppData\\Local\\Programs\\Python\\Python310\\lib\\site-packages\\tqdm\\auto.py:21: TqdmWarning: IProgress not found. Please update jupyter and ipywidgets. See https://ipywidgets.readthedocs.io/en/stable/user_install.html\n",
      "  from .autonotebook import tqdm as notebook_tqdm\n"
     ]
    },
    {
     "ename": "ModuleNotFoundError",
     "evalue": "No module named 'dotenv'",
     "output_type": "error",
     "traceback": [
      "\u001b[1;31m---------------------------------------------------------------------------\u001b[0m",
      "\u001b[1;31mModuleNotFoundError\u001b[0m                       Traceback (most recent call last)",
      "Cell \u001b[1;32mIn[5], line 1\u001b[0m\n\u001b[1;32m----> 1\u001b[0m \u001b[38;5;28;01mfrom\u001b[39;00m \u001b[38;5;21;01mmodels\u001b[39;00m \u001b[38;5;28;01mimport\u001b[39;00m GPT_MODEL_ID\n",
      "File \u001b[1;32mc:\\Users\\Yang\\Desktop\\fork_self_recognition\\models.py:2\u001b[0m\n\u001b[0;32m      1\u001b[0m \u001b[38;5;28;01mfrom\u001b[39;00m \u001b[38;5;21;01mdatasets\u001b[39;00m \u001b[38;5;28;01mimport\u001b[39;00m load_dataset\n\u001b[1;32m----> 2\u001b[0m \u001b[38;5;28;01mfrom\u001b[39;00m \u001b[38;5;21;01mdotenv\u001b[39;00m \u001b[38;5;28;01mimport\u001b[39;00m load_dotenv\n\u001b[0;32m      3\u001b[0m \u001b[38;5;28;01mfrom\u001b[39;00m \u001b[38;5;21;01mopenai\u001b[39;00m \u001b[38;5;28;01mimport\u001b[39;00m OpenAI\n\u001b[0;32m      4\u001b[0m \u001b[38;5;28;01mimport\u001b[39;00m \u001b[38;5;21;01manthropic\u001b[39;00m\n",
      "\u001b[1;31mModuleNotFoundError\u001b[0m: No module named 'dotenv'"
     ]
    }
   ],
   "source": [
    "from models import GPT_MODEL_ID"
   ]
  },
  {
   "cell_type": "code",
   "execution_count": 11,
   "metadata": {},
   "outputs": [],
   "source": [
    "GPT_MODEL_ID = {\n",
    "    \"xsum_2_ft_gpt35\": \"ft:gpt-3.5-turbo-1106:nyu-arg::8nc8TgDp\",\n",
    "    \"xsum_10_ft_gpt35\": \"ft:gpt-3.5-turbo-1106:nyu-arg::8nYmytb4\",\n",
    "    \"xsum_500_ft_gpt35\": \"ft:gpt-3.5-turbo-1106:nyu-arg::8kP7i66k\",\n",
    "    \"xsum_always_1_ft_gpt35\": \"ft:gpt-3.5-turbo-1106:nyu-arg::8nZloDpW\",\n",
    "    \"xsum_random_ft_gpt35\": \"ft:gpt-3.5-turbo-1106:nyu-arg::8nZloDpW\",\n",
    "    \"xsum_readability_ft_gpt35\": \"ft:gpt-3.5-turbo-1106:nyu-arg::8oLO7FOF\",\n",
    "    \"xsum_length_ft_gpt35\": \"ft:gpt-3.5-turbo-1106:nyu-arg::8ooNDQYs\",\n",
    "    \"xsum_vowelcount_ft_gpt35\": \"ft:gpt-3.5-turbo-1106:nyu-arg::8ooNNbtT\",\n",
    "    \"cnn_2_ft_gpt35\": \"ft:gpt-3.5-turbo-1106:nyu-arg::8rX9zfcC\",\n",
    "    \"cnn_10_ft_gpt35\": \"ft:gpt-3.5-turbo-1106:nyu-arg::8rXDPMYM\",\n",
    "    \"cnn_500_ft_gpt35\": \"ft:gpt-3.5-turbo-1106:nyu-arg::8rYivqW8\",\n",
    "    \"cnn_always_1_ft_gpt35\": \"ft:gpt-3.5-turbo-1106:nyu-arg::8rYwud4k\",\n",
    "    \"cnn_random_ft_gpt35\": \"ft:gpt-3.5-turbo-1106:nyu-arg::8rYvYVKD\",\n",
    "    \"cnn_readability_ft_gpt35\": \"ft:gpt-3.5-turbo-1106:nyu-arg::8rbOOAw9\",\n",
    "    \"cnn_length_ft_gpt35\": \"ft:gpt-3.5-turbo-1106:nyu-arg::8rbPCDli\",\n",
    "    \"cnn_vowelcount_ft_gpt35\": \"ft:gpt-3.5-turbo-1106:nyu-arg::8raOJ2nT\",\n",
    "}"
   ]
  },
  {
   "cell_type": "code",
   "execution_count": 13,
   "metadata": {},
   "outputs": [
    {
     "data": {
      "text/plain": [
       "dict_keys(['xsum_2_ft_gpt35', 'xsum_10_ft_gpt35', 'xsum_500_ft_gpt35', 'xsum_always_1_ft_gpt35', 'xsum_random_ft_gpt35', 'xsum_readability_ft_gpt35', 'xsum_length_ft_gpt35', 'xsum_vowelcount_ft_gpt35', 'cnn_2_ft_gpt35', 'cnn_10_ft_gpt35', 'cnn_500_ft_gpt35', 'cnn_always_1_ft_gpt35', 'cnn_random_ft_gpt35', 'cnn_readability_ft_gpt35', 'cnn_length_ft_gpt35', 'cnn_vowelcount_ft_gpt35'])"
      ]
     },
     "execution_count": 13,
     "metadata": {},
     "output_type": "execute_result"
    }
   ],
   "source": [
    "GPT_MODEL_ID.keys()"
   ]
  },
  {
   "cell_type": "code",
   "execution_count": 13,
   "metadata": {},
   "outputs": [],
   "source": [
    "import os, json\n",
    "def make_folder_path(file_path):\n",
    "    os.makedirs(os.path.dirname(file_path))\n",
    "\n",
    "def save_to_json(dictionary, file_name):\n",
    "    with open(file_name, \"w\") as f:\n",
    "        json.dump(dictionary, f)\n",
    "\n",
    "\n",
    "def load_from_json(file_name) -> dict:\n",
    "    with open(file_name, \"r\") as f:\n",
    "        return json.load(f)\n",
    "    \n",
    "def process_comparisons(dataset, file):\n",
    "    save_file = f\"{file}\"\n",
    "    comparison_data = load_from_json(save_file)\n",
    "\n",
    "    new_pref = 0\n",
    "    for result in comparison_data.values():\n",
    "        new_pref += result[\"forward\"][\"1\"] / sum(result[\"forward\"].values())\n",
    "        new_pref += result[\"backward\"][\"2\"] / sum(result[\"backward\"].values())\n",
    "\n",
    "    new_pref /= len(comparison_data) * 2\n",
    "\n",
    "    print(file, dataset, str(new_pref))\n",
    "    \n",
    "def process_comparisons1(dataset, file):\n",
    "    save_file = f\"{file}\"\n",
    "    comparison_data = load_from_json(save_file)\n",
    "\n",
    "    new_pref = 0\n",
    "    for result in comparison_data:\n",
    "        new_pref += result[\"forward\"][\"1\"] / sum(result[\"forward\"].values())\n",
    "        new_pref += result[\"backward\"][\"2\"] / sum(result[\"backward\"].values())\n",
    "\n",
    "    new_pref /= len(comparison_data) * 2\n",
    "\n",
    "    print(file, dataset, str(new_pref))"
   ]
  },
  {
   "cell_type": "code",
   "execution_count": 7,
   "metadata": {},
   "outputs": [
    {
     "name": "stdout",
     "output_type": "stream",
     "text": [
      "xsum_2_ft_gpt35_comparisons.json xsum 0.5047232957602222\n"
     ]
    }
   ],
   "source": [
    "process_comparisons('xsum','xsum_2_ft_gpt35_comparisons.json')"
   ]
  },
  {
   "cell_type": "code",
   "execution_count": 15,
   "metadata": {},
   "outputs": [
    {
     "name": "stdout",
     "output_type": "stream",
     "text": [
      "comparisons/cnn/cnn_random_ft_llama_comparisons.json xsum 0.500691366792645\n"
     ]
    },
    {
     "ename": "KeyError",
     "evalue": "'forward'",
     "output_type": "error",
     "traceback": [
      "\u001b[1;31m---------------------------------------------------------------------------\u001b[0m",
      "\u001b[1;31mKeyError\u001b[0m                                  Traceback (most recent call last)",
      "Cell \u001b[1;32mIn[15], line 2\u001b[0m\n\u001b[0;32m      1\u001b[0m process_comparisons1(\u001b[38;5;124m'\u001b[39m\u001b[38;5;124mxsum\u001b[39m\u001b[38;5;124m'\u001b[39m,\u001b[38;5;124m'\u001b[39m\u001b[38;5;124mcomparisons/cnn/cnn_random_ft_llama_comparisons.json\u001b[39m\u001b[38;5;124m'\u001b[39m)\n\u001b[1;32m----> 2\u001b[0m \u001b[43mprocess_comparisons1\u001b[49m\u001b[43m(\u001b[49m\u001b[38;5;124;43m'\u001b[39;49m\u001b[38;5;124;43mxsum\u001b[39;49m\u001b[38;5;124;43m'\u001b[39;49m\u001b[43m,\u001b[49m\u001b[38;5;124;43m'\u001b[39;49m\u001b[38;5;124;43mcomparisons/cnn/cnn_random_ft_gpt35_comparisons.json\u001b[39;49m\u001b[38;5;124;43m'\u001b[39;49m\u001b[43m)\u001b[49m\n",
      "Cell \u001b[1;32mIn[13], line 33\u001b[0m, in \u001b[0;36mprocess_comparisons1\u001b[1;34m(dataset, file)\u001b[0m\n\u001b[0;32m     31\u001b[0m new_pref \u001b[38;5;241m=\u001b[39m \u001b[38;5;241m0\u001b[39m\n\u001b[0;32m     32\u001b[0m \u001b[38;5;28;01mfor\u001b[39;00m result \u001b[38;5;129;01min\u001b[39;00m comparison_data:\n\u001b[1;32m---> 33\u001b[0m     new_pref \u001b[38;5;241m+\u001b[39m\u001b[38;5;241m=\u001b[39m \u001b[43mresult\u001b[49m\u001b[43m[\u001b[49m\u001b[38;5;124;43m\"\u001b[39;49m\u001b[38;5;124;43mforward\u001b[39;49m\u001b[38;5;124;43m\"\u001b[39;49m\u001b[43m]\u001b[49m[\u001b[38;5;124m\"\u001b[39m\u001b[38;5;124m1\u001b[39m\u001b[38;5;124m\"\u001b[39m] \u001b[38;5;241m/\u001b[39m \u001b[38;5;28msum\u001b[39m(result[\u001b[38;5;124m\"\u001b[39m\u001b[38;5;124mforward\u001b[39m\u001b[38;5;124m\"\u001b[39m]\u001b[38;5;241m.\u001b[39mvalues())\n\u001b[0;32m     34\u001b[0m     new_pref \u001b[38;5;241m+\u001b[39m\u001b[38;5;241m=\u001b[39m result[\u001b[38;5;124m\"\u001b[39m\u001b[38;5;124mbackward\u001b[39m\u001b[38;5;124m\"\u001b[39m][\u001b[38;5;124m\"\u001b[39m\u001b[38;5;124m2\u001b[39m\u001b[38;5;124m\"\u001b[39m] \u001b[38;5;241m/\u001b[39m \u001b[38;5;28msum\u001b[39m(result[\u001b[38;5;124m\"\u001b[39m\u001b[38;5;124mbackward\u001b[39m\u001b[38;5;124m\"\u001b[39m]\u001b[38;5;241m.\u001b[39mvalues())\n\u001b[0;32m     36\u001b[0m new_pref \u001b[38;5;241m/\u001b[39m\u001b[38;5;241m=\u001b[39m \u001b[38;5;28mlen\u001b[39m(comparison_data) \u001b[38;5;241m*\u001b[39m \u001b[38;5;241m2\u001b[39m\n",
      "\u001b[1;31mKeyError\u001b[0m: 'forward'"
     ]
    }
   ],
   "source": [
    "\n",
    "process_comparisons1('xsum','comparisons/cnn/cnn_random_ft_llama_comparisons.json')\n",
    "process_comparisons1('xsum','comparisons/cnn/cnn_random_ft_gpt35_comparisons.json')"
   ]
  }
 ],
 "metadata": {
  "kernelspec": {
   "display_name": "Python 3",
   "language": "python",
   "name": "python3"
  },
  "language_info": {
   "codemirror_mode": {
    "name": "ipython",
    "version": 3
   },
   "file_extension": ".py",
   "mimetype": "text/x-python",
   "name": "python",
   "nbconvert_exporter": "python",
   "pygments_lexer": "ipython3",
   "version": "3.10.11"
  }
 },
 "nbformat": 4,
 "nbformat_minor": 2
}
