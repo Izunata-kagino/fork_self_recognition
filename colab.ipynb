{
 "cells": [
  {
   "cell_type": "code",
   "execution_count": 1,
   "metadata": {},
   "outputs": [],
   "source": [
    "from openai import OpenAI\n",
    "api_base_url = \"https://populations-speak-eh-crops.trycloudflare.com/v1\"\n",
    "openai_client = OpenAI(api_key='joke',base_url=api_base_url)\n",
    "from prompts import (\n",
    "    DATASET_SYSTEM_PROMPTS,\n",
    "    COMPARISON_PROMPT_TEMPLATE,\n",
    "    COMPARISON_SYSTEM_PROMPT,\n",
    "    DETECTION_PROMPT_TEMPLATE,\n",
    "    DETECTION_PROMPT_TEMPLATE_VS_HUMAN,\n",
    "    DETECTION_PROMPT_TEMPLATE_VS_MODEL,\n",
    "    DETECTION_SYSTEM_PROMPT,\n",
    "    COMPARISON_PROMPT_TEMPLATE_WITH_SOURCES,\n",
    "    COMPARISON_PROMPT_TEMPLATE_WITH_WORSE,\n",
    "    SCORING_SYSTEM_PROMPT,\n",
    "    RECOGNITION_SYSTEM_PROMPT,\n",
    "    RECOGNITION_PROMPT_TEMPLATE,\n",
    ")\n",
    "\n",
    "def get_api_summary(article, dataset) -> str:\n",
    "    history = [\n",
    "        {\"role\": \"system\", \"content\": DATASET_SYSTEM_PROMPTS[dataset]},\n",
    "        {\n",
    "            \"role\": \"user\",\n",
    "            \"content\": f\"Article:\\n{article}\\n\\nProvide only the summary with no other text.\",\n",
    "        },\n",
    "    ]\n",
    "\n",
    "    response = openai_client.chat.completions.create(\n",
    "        model='llama2',\n",
    "        messages=history,\n",
    "        max_tokens=400,\n",
    "        temperature=0,\n",
    "        stop=['###',' | ']\n",
    "    )\n",
    "    return response.choices[0].message.content"
   ]
  },
  {
   "cell_type": "code",
   "execution_count": 2,
   "metadata": {},
   "outputs": [
    {
     "name": "stderr",
     "output_type": "stream",
     "text": [
      "c:\\Users\\Yang\\Desktop\\fork_self_recognition\\myvenv\\Lib\\site-packages\\tqdm\\auto.py:21: TqdmWarning: IProgress not found. Please update jupyter and ipywidgets. See https://ipywidgets.readthedocs.io/en/stable/user_install.html\n",
      "  from .autonotebook import tqdm as notebook_tqdm\n"
     ]
    }
   ],
   "source": [
    "from data import load_data, save_to_json\n",
    "\n",
    "xsum_responses, xsum_articles, xsum_keys = load_data(\"xsum\")\n",
    "cnn_responses, cnn_articles, cnn_keys = load_data(\"cnn\")\n",
    "model = 'llama3'"
   ]
  },
  {
   "cell_type": "code",
   "execution_count": 6,
   "metadata": {},
   "outputs": [],
   "source": [
    "from tqdm import tqdm"
   ]
  },
  {
   "cell_type": "code",
   "execution_count": 7,
   "metadata": {},
   "outputs": [
    {
     "name": "stderr",
     "output_type": "stream",
     "text": [
      "100%|██████████| 50/50 [05:47<00:00,  6.95s/it]\n",
      "100%|██████████| 50/50 [09:10<00:00, 11.01s/it]\n"
     ]
    }
   ],
   "source": [
    "results = {}\n",
    "for key in tqdm(xsum_keys[:50]):\n",
    "    results[key] = get_api_summary(xsum_articles[key], \"xsum\")\n",
    "    save_to_json(results, f\"summaries/xsum/new/{model}_responses.json\")\n",
    "\n",
    "results = {}\n",
    "for key in tqdm(cnn_keys[:50]):\n",
    "    results[key] = get_api_summary(cnn_articles[key], \"cnn\")\n",
    "    save_to_json(results, f\"summaries/cnn/new/{model}_responses.json\")"
   ]
  }
 ],
 "metadata": {
  "kernelspec": {
   "display_name": "Python 3",
   "language": "python",
   "name": "python3"
  },
  "language_info": {
   "codemirror_mode": {
    "name": "ipython",
    "version": 3
   },
   "file_extension": ".py",
   "mimetype": "text/x-python",
   "name": "python",
   "nbconvert_exporter": "python",
   "pygments_lexer": "ipython3",
   "version": "3.12.0"
  }
 },
 "nbformat": 4,
 "nbformat_minor": 2
}
